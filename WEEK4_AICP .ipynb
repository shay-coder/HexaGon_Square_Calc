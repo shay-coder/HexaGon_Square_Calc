{
  "nbformat": 4,
  "nbformat_minor": 0,
  "metadata": {
    "colab": {
      "provenance": []
    },
    "kernelspec": {
      "name": "python3",
      "display_name": "Python 3"
    },
    "language_info": {
      "name": "python"
    }
  },
  "cells": [
    {
      "cell_type": "code",
      "execution_count": 2,
      "metadata": {
        "id": "YwpmW_1CuROm"
      },
      "outputs": [],
      "source": [
        "hexLength = 8\n",
        "\n",
        "def calcArea():\n",
        "  area = 1.5*1.732* hexLength**2\n",
        "  print('Area of Hexagon is: ',area)\n",
        "\n",
        "def calcAngleSum():\n",
        "  angle = 120\n",
        "  sum = (6-2) * angle\n",
        "  print('Sum of angles og Hexagon is: ',sum)\n",
        "\n",
        "def calcPeri():\n",
        "  perimeter = 6 *hexLength\n",
        "  print('Perimeter of Hexagon is: ',perimeter)\n",
        "\n",
        "def display1():\n",
        "  calcArea()\n",
        "  calcPeri()\n",
        "  calcAngleSum()\n",
        "\n"
      ]
    },
    {
      "cell_type": "code",
      "source": [
        "squareLength = 9\n",
        "\n",
        "def calAreaSquare():\n",
        "  area = squareLength**2\n",
        "  print('Area of Square is: ',area)\n",
        "\n",
        "def calcPeriSquare():\n",
        "  perimeter = squareLength*4\n",
        "  print('Perimeter of Square is: ',perimeter)\n",
        "\n",
        "def display2():\n",
        "  calAreaSquare()\n",
        "  calcPeriSquare()"
      ],
      "metadata": {
        "id": "9wIPnaMruvN6"
      },
      "execution_count": 3,
      "outputs": []
    },
    {
      "cell_type": "code",
      "source": [
        "while True:\n",
        "  choice = input('Please Enter your choice: ')\n",
        "  print()\n",
        "  if choice == '1':\n",
        "    display1()\n",
        "  elif choice=='2':\n",
        "    display2()\n",
        "  else:\n",
        "    break\n",
        ""
      ],
      "metadata": {
        "colab": {
          "base_uri": "https://localhost:8080/"
        },
        "id": "M1xF6vAKx_vj",
        "outputId": "9c7b9e0b-9ae2-441d-a871-b3ac2e7e31ea"
      },
      "execution_count": 7,
      "outputs": [
        {
          "output_type": "stream",
          "name": "stdout",
          "text": [
            "Please Enter your choice: 1\n",
            "\n",
            "Area of Hexagon is:  166.272\n",
            "Perimeter of Hexagon is:  48\n",
            "Sum of angles og Hexagon is:  480\n",
            "Please Enter your choice: 2\n",
            "\n",
            "Area of Square is:  81\n",
            "Perimeter of Square is:  36\n",
            "Please Enter your choice: 1\n",
            "\n",
            "Area of Hexagon is:  166.272\n",
            "Perimeter of Hexagon is:  48\n",
            "Sum of angles og Hexagon is:  480\n",
            "Please Enter your choice: x\n",
            "\n"
          ]
        }
      ]
    },
    {
      "cell_type": "code",
      "source": [],
      "metadata": {
        "id": "kOmxWUD6yCp_"
      },
      "execution_count": null,
      "outputs": []
    }
  ]
}